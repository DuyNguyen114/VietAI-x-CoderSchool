{
 "cells": [
  {
   "cell_type": "markdown",
   "id": "444d4cd3",
   "metadata": {},
   "source": [
    "# Exercise 1"
   ]
  },
  {
   "cell_type": "code",
   "execution_count": null,
   "id": "8a825a5a",
   "metadata": {},
   "outputs": [],
   "source": [
    "# Ex1: Write a program to count positive and negative numbers in a list\n",
    "data1 = [-10, -21, -4, -45, -66, 93, 11, -4, -6, 12, 11, 4]\n",
    "\n"
   ]
  },
  {
   "cell_type": "code",
   "execution_count": null,
   "id": "e8ae9995",
   "metadata": {},
   "outputs": [],
   "source": [
    "def count_pos_neg(data):\n",
    "    pos = 0\n",
    "    neg = 0\n",
    "    for i in data:\n",
    "        if(i > 0):\n",
    "            pos += 1\n",
    "        elif(i < 0):\n",
    "            neg += 1\n",
    "        elif(i == 0):\n",
    "            pass\n",
    "    return pos, neg\n",
    "\n",
    "pos, neg = count_pos_neg(data1)\n",
    "print(\"Positive numbers:\", pos)\n",
    "print(\"Negative numbers:\", neg)"
   ]
  },
  {
   "cell_type": "markdown",
   "id": "5efd9f6c",
   "metadata": {},
   "source": [
    "# Exercise 2"
   ]
  },
  {
   "cell_type": "code",
   "execution_count": null,
   "id": "55f64f91",
   "metadata": {},
   "outputs": [],
   "source": [
    "# Ex2: Given a list, extract all elements whose frequency is greater than k.\n",
    "data2 = [4, 6, 4, 3, 3, 4, 3, 4, 3, 8]\n",
    "k = 3"
   ]
  },
  {
   "cell_type": "code",
   "execution_count": null,
   "id": "c968ecc4",
   "metadata": {},
   "outputs": [],
   "source": [
    "def extract_elements(data, k):\n",
    "    freq = {}\n",
    "    for i in range(len(data)):\n",
    "        j = i + 1\n",
    "        count = 1\n",
    "        for x in range(j, len(data)):\n",
    "            if(data[i] == data[x]):\n",
    "                count += 1\n",
    "        print(\"count: \", count)\n",
    "        if(count > k):\n",
    "            freq[data[i]] = count   \n",
    "    print(\"Elements with frequency greater than\", k, \"are:\", freq)\n",
    "\n",
    "extract_elements(data2, k)"
   ]
  },
  {
   "cell_type": "markdown",
   "id": "809e604f",
   "metadata": {},
   "source": [
    "# Exercise 3"
   ]
  },
  {
   "cell_type": "code",
   "execution_count": null,
   "id": "20362a07",
   "metadata": {},
   "outputs": [],
   "source": [
    "# Ex3: find the strongest neighbour. Given an array of N positive integers.\n",
    "# The task is to find the maximum for every adjacent pair in the array.\n",
    "data3 = [4, 5, 6, 7, 3, 9, 11, 2, 10]\n"
   ]
  },
  {
   "cell_type": "code",
   "execution_count": null,
   "id": "b72676e7",
   "metadata": {},
   "outputs": [],
   "source": [
    "def strongest_neighbout(data):\n",
    "    result = []\n",
    "    for i in range(len(data)-1):\n",
    "          result.append(max(data[i], data[i+1]))    \n",
    "    print(\"strongest_neighbout: \", result)\n",
    "\n",
    "strongest_neighbout(data3)"
   ]
  },
  {
   "cell_type": "markdown",
   "id": "0f6d44b6",
   "metadata": {},
   "source": [
    "# Exercise 4"
   ]
  },
  {
   "cell_type": "code",
   "execution_count": null,
   "id": "bd4592e2",
   "metadata": {},
   "outputs": [],
   "source": [
    "# Ex4: print all Possible Combinations from the three Digits\n",
    "data4 = [1, 2, 3]"
   ]
  },
  {
   "cell_type": "code",
   "execution_count": null,
   "id": "8f0f01e4",
   "metadata": {},
   "outputs": [],
   "source": [
    "def permutation(data):\n",
    "    for i in range(len(data)):\n",
    "        for j in range(len(data)):\n",
    "            for k in range(len(data)):\n",
    "                if(i != j and j != k and i != k):\n",
    "                    print(data[i], data[j], data[k])\n",
    "\n",
    "permutation(data4)"
   ]
  },
  {
   "cell_type": "markdown",
   "id": "50470ca9",
   "metadata": {},
   "source": [
    "# Exercise 5"
   ]
  },
  {
   "cell_type": "code",
   "execution_count": null,
   "id": "18ff641f",
   "metadata": {},
   "outputs": [],
   "source": [
    "# Ex5: Given two matrices (2 nested lists), the task is to write a Python program\n",
    "# to add elements to each row from initial matrix.\n",
    "# For example: Input : test_list1 = [[4, 3, 5,], [1, 2, 3], [3, 7, 4]], test_list2 = [[1], [9], [8]]\n",
    "# Output : [[4, 3, 5, 1], [1, 2, 3, 9], [3, 7, 4, 8]]\n",
    "data5_list1 = [[4, 3, 5, ], [1, 2, 3], [3, 7, 4]]\n",
    "data5_list2 = [[1, 3], [9, 3, 5, 7], [8]]"
   ]
  },
  {
   "cell_type": "code",
   "execution_count": null,
   "id": "c0e6c420",
   "metadata": {},
   "outputs": [],
   "source": [
    "def add_elements(data1, data2):\n",
    "    result = []\n",
    "    for i in range(len(data1)):\n",
    "        result.append(data1[i] + data2[i])\n",
    "    print(\"Result: \", result)   \n",
    "\n",
    "add_elements(data5_list1, data5_list2)"
   ]
  },
  {
   "cell_type": "markdown",
   "id": "cfa5c314",
   "metadata": {},
   "source": [
    "# Exercise 6"
   ]
  },
  {
   "cell_type": "code",
   "execution_count": null,
   "id": "3148bbe9",
   "metadata": {},
   "outputs": [],
   "source": [
    "# Ex6:  Write a program which will find all such numbers which are divisible by 7\n",
    "# but are not a multiple of 5, between 2000 and 3200 (both included).\n",
    "# The numbers obtained should be printed in a comma-separated sequence on a single line."
   ]
  },
  {
   "cell_type": "code",
   "execution_count": null,
   "id": "65ba783f",
   "metadata": {},
   "outputs": [],
   "source": [
    "def find_numbers():\n",
    "    result = []\n",
    "    for i in range(2000, 3201):\n",
    "        if(i % 7 == 0 and i % 5 != 0):\n",
    "            result.append(i)\n",
    "    print(\"Result: \", result)\n",
    "\n",
    "find_numbers()"
   ]
  },
  {
   "cell_type": "markdown",
   "id": "b896526c",
   "metadata": {},
   "source": [
    "# Exercise 7"
   ]
  },
  {
   "cell_type": "code",
   "execution_count": null,
   "id": "3fd31ee6",
   "metadata": {},
   "outputs": [],
   "source": [
    "# Ex7: Write a program, which will find all such numbers between 1000 and 3000 (both included) such that each digit of the number is an even number.\n",
    "# The numbers obtained should be printed in a comma-separated sequence on a single line."
   ]
  },
  {
   "cell_type": "code",
   "execution_count": null,
   "id": "cf076504",
   "metadata": {},
   "outputs": [],
   "source": [
    "def all_even_numbers(number):\n",
    "    while number > 0:\n",
    "        remainder = number % 10\n",
    "        if(remainder % 2 != 0):\n",
    "            return False\n",
    "        number = number // 10\n",
    "    return True\n",
    "\n",
    "def find_even_numbers():\n",
    "    result = []\n",
    "    for i in range(1000, 3001):\n",
    "        if(all_even_numbers(i)):\n",
    "            result.append(i)\n",
    "    print(\"Result: \", result)\n",
    "\n",
    "find_even_numbers()\n",
    "        \n",
    "    "
   ]
  },
  {
   "cell_type": "markdown",
   "id": "c8846efd",
   "metadata": {},
   "source": [
    "# Exercise 8"
   ]
  },
  {
   "cell_type": "code",
   "execution_count": null,
   "id": "a8c0011d",
   "metadata": {},
   "outputs": [],
   "source": [
    "# Ex8: Let user type 2 words in English as input. Print out the output\n",
    "# which is the shortest chain according to the following rules:\n",
    "# - Each word in the chain has at least 3 letters\n",
    "# - The 2 input words from user will be used as the first and the last words of the chain\n",
    "# - 2 last letters of 1 word will be the same as 2 first letters of the next word in the chain\n",
    "# - All the words are from the file wordsEn.txt\n",
    "# - If there are multiple shortest chains, return any of them is sufficient\n"
   ]
  }
 ],
 "metadata": {
  "kernelspec": {
   "display_name": "Python 3",
   "language": "python",
   "name": "python3"
  },
  "language_info": {
   "name": "python",
   "version": "3.9.7"
  }
 },
 "nbformat": 4,
 "nbformat_minor": 5
}
