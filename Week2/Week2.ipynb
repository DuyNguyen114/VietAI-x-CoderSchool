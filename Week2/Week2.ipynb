{
 "cells": [
  {
   "cell_type": "markdown",
   "id": "57dd8d9e",
   "metadata": {},
   "source": [
    "# Exercise 1"
   ]
  },
  {
   "cell_type": "code",
   "execution_count": null,
   "id": "7b3bc33d",
   "metadata": {},
   "outputs": [],
   "source": [
    "# Ex1: Write a NumPy program to reverse an array (first element becomes last).\n",
    "# Input: [12 13 14 15 16 17 18 19 20 21 22 23 24 25 26 27 28 29 30 31 32 33 34 35 36 37]"
   ]
  },
  {
   "cell_type": "code",
   "execution_count": null,
   "id": "06b8106e",
   "metadata": {},
   "outputs": [],
   "source": [
    "import numpy as np\n",
    "\n",
    "arr = np.array([12, 13, 14, 15, 16, 17, 18, 19, 20, 21, 22, 23, 24, 25, 26, 27, 28, 29, 30, 31, 32, 33, 34, 35, 36, 37])\n",
    "reversed_arr = np.flip(arr)  # Đảo ngược mảng\n",
    "\n",
    "print(reversed_arr)"
   ]
  },
  {
   "cell_type": "markdown",
   "id": "81480123",
   "metadata": {},
   "source": [
    "# Exercise 2 "
   ]
  },
  {
   "cell_type": "code",
   "execution_count": null,
   "id": "539714a5",
   "metadata": {},
   "outputs": [],
   "source": [
    "# Ex2: Write a NumPy program to test whether each element of a 1-D array is also present in a second array\n",
    "# Input Array1: [ 0 10 20 40 60]\n",
    "#       Array2: [10, 30, 40]"
   ]
  },
  {
   "cell_type": "code",
   "execution_count": null,
   "id": "6220320c",
   "metadata": {},
   "outputs": [],
   "source": [
    "import numpy as np\n",
    "\n",
    "array1 = np.array([0, 10, 20, 40, 60])\n",
    "array2 = np.array([10, 30, 40])\n",
    "\n",
    "result = np.in1d(array1, array2)\n",
    "\n",
    "print(\"Array1:\", array1)\n",
    "print(\"Array2:\", array2)\n",
    "print(\"Result:\", result)\n"
   ]
  },
  {
   "cell_type": "markdown",
   "id": "0376138e",
   "metadata": {},
   "source": [
    "# Exercise 3"
   ]
  },
  {
   "cell_type": "code",
   "execution_count": null,
   "id": "2080da3c",
   "metadata": {},
   "outputs": [],
   "source": [
    "# Ex3: Write a NumPy program to find the indices of the maximum and minimum values along the given axis of an array\n",
    "# Input Array [1,6,4,8,9,-4,-2,11]"
   ]
  },
  {
   "cell_type": "code",
   "execution_count": null,
   "id": "4d16aeef",
   "metadata": {},
   "outputs": [],
   "source": [
    "import numpy as np\n",
    "\n",
    "arr = np.array([1, 6, 4, 8, 9, -4, -2, 11])\n",
    "\n",
    "max_index = np.argmax(arr)  \n",
    "min_index = np.argmin(arr)  \n",
    "\n",
    "print(\"Input Array:\", arr)\n",
    "print(\"Index of Maximum Value:\", max_index)\n",
    "print(\"Index of Minimum Value:\", min_index)"
   ]
  },
  {
   "cell_type": "markdown",
   "id": "b7b28d2b",
   "metadata": {},
   "source": [
    "# Exercise 4 "
   ]
  },
  {
   "cell_type": "code",
   "execution_count": null,
   "id": "edc8dca6",
   "metadata": {},
   "outputs": [],
   "source": [
    "# Ex4: Read the entire file story.txt and write a program to print out top 100 words occur most\n",
    "# frequently and their corresponding appearance. You could ignore all\n",
    "# punction characters such as comma, dot, semicolon, ...\n",
    "# Sample output:\n",
    "# house: 453\n",
    "# dog: 440\n",
    "# people: 312\n",
    "# ...\n"
   ]
  },
  {
   "cell_type": "code",
   "execution_count": null,
   "id": "3204b011",
   "metadata": {},
   "outputs": [],
   "source": [
    "import re\n",
    "from collections import Counter\n",
    "\n",
    "with open(\"story.txt\", \"r\", encoding=\"utf-8\") as file:\n",
    "    text = file.read().lower()  \n",
    "\n",
    "\n",
    "text = re.sub(r'[^\\w\\s]', '', text)\n",
    "\n",
    "\n",
    "words = text.split()\n",
    "\n",
    "\n",
    "word_counts = Counter(words)\n",
    "\n",
    "\n",
    "most_common_words = word_counts.most_common(100)\n",
    "\n",
    "\n",
    "for word, count in most_common_words:\n",
    "    print(f\"{word}: {count}\")\n"
   ]
  }
 ],
 "metadata": {
  "language_info": {
   "name": "python"
  }
 },
 "nbformat": 4,
 "nbformat_minor": 5
}
